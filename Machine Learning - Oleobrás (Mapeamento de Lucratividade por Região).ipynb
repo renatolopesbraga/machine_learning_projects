{
 "cells": [
  {
   "cell_type": "markdown",
   "id": "2e62666a",
   "metadata": {},
   "source": [
    "# Descrição do projeto"
   ]
  },
  {
   "cell_type": "markdown",
   "id": "0ee8e394",
   "metadata": {},
   "source": [
    "A Oleobrás, uma empresa de mineração, tem como objetivo encontrar o local mais adequado para perfurar um novo poço de petróleo e, para isso, segue um conjunto de etapas bem definidas:\n",
    "\n",
    "- Coleta de parâmetros: A primeira etapa consiste em coletar informações dos poços de petróleo na região selecionada. Os principais parâmetros analisados são a qualidade do petróleo e o volume de reservas.\n",
    "\n",
    "- Construção de um modelo preditivo: Com base nos dados coletados, a empresa constrói um modelo preditivo que estimará o volume de reservas nos novos poços. Isso permite avaliar o potencial de cada local para obter uma estimativa do volume de petróleo recuperável.\n",
    "\n",
    "- Seleção dos poços com maiores estimativas: Em seguida, a Oleobrás seleciona os poços de petróleo que apresentam as maiores estimativas de volume de reservas. Essa escolha é feita com base nas previsões fornecidas pelo modelo preditivo, visando maximizar o potencial de retorno.\n",
    "\n",
    "- Escolha da região mais lucrativa: A última etapa é escolher a região que apresenta o maior lucro total para os poços de petróleo selecionados. Nessa fase, a empresa considera não apenas as estimativas de volume de reservas, mas também os custos operacionais, investimentos necessários e projeções de preço do petróleo para determinar a margem de lucro mais alta.\n",
    "\n",
    "A fim de orientar a escolha da região com a margem de lucro mais alta, a Oleobrás utiliza a técnica de Bootstrapping para analisar o lucro potencial e os riscos associados. O Bootstrapping é uma abordagem estatística que permite simular cenários variados a partir de uma amostra de dados existente, possibilitando a avaliação de incertezas e riscos em projeções financeiras.\n",
    "\n",
    "Com essa abordagem, a Oleobrás busca tomar decisões mais informadas e seguras, considerando diversos cenários possíveis, antes de investir em um novo poço de petróleo. Dessa forma, a empresa busca maximizar seus retornos e minimizar os riscos envolvidos na exploração de novas áreas.\n",
    "\n",
    "\n",
    "\n",
    "\n",
    "\n"
   ]
  },
  {
   "cell_type": "markdown",
   "id": "a5d81c8e-8e67-40b3-aa24-b9873b1bc8e4",
   "metadata": {},
   "source": [
    "# 1. Leitura Dados e Importe Bibliotecas"
   ]
  },
  {
   "cell_type": "code",
   "execution_count": 1,
   "id": "25a20167-3b3e-47e1-a6c4-348ff1311cbe",
   "metadata": {},
   "outputs": [],
   "source": [
    "# Importe das bibliotecas\n",
    "import pandas as pd\n",
    "import numpy as np\n",
    "import seaborn as sns\n",
    "from sklearn.linear_model import LinearRegression\n",
    "from sklearn.model_selection import train_test_split\n",
    "from sklearn.metrics import mean_squared_error,r2_score\n",
    "import matplotlib.pyplot as plt\n",
    "from sklearn.model_selection import cross_val_score\n",
    "\n",
    "import warnings\n",
    "warnings.filterwarnings(\"ignore\")"
   ]
  },
  {
   "cell_type": "code",
   "execution_count": 2,
   "id": "de3cb971-c640-4e9c-989d-7a71d62328c1",
   "metadata": {},
   "outputs": [],
   "source": [
    "data_geo_0 = pd.read_csv('geo_data_0.csv')\n",
    "data_geo_1 = pd.read_csv('geo_data_1.csv')\n",
    "data_geo_2 = pd.read_csv('geo_data_2.csv')"
   ]
  },
  {
   "cell_type": "markdown",
   "id": "0bdae774-2a53-4a95-bd7a-5915188a837f",
   "metadata": {},
   "source": [
    "# 2. EDA,  Treino, Teste "
   ]
  },
  {
   "cell_type": "markdown",
   "id": "b46395b6",
   "metadata": {},
   "source": [
    "Nesta etapa, conduziremos uma análise exploratória de cada região e, em seguida, procederemos ao treinamento e teste do modelo para cada uma delas. O processo seguirá os seguintes passos:\n",
    "\n",
    "- Análise exploratória: Inicialmente, realizaremos uma análise exploratória dos dados de cada região. Essa etapa nos permitirá compreender melhor as características e peculiaridades de cada conjunto de dados.\n",
    "\n",
    "- Divisão dos dados: Em seguida, dividiremos os dados de cada região em um conjunto de treinamento e um conjunto de validação, utilizando uma proporção de 75% para treinamento e 25% para validação. Essa divisão é fundamental para avaliar o desempenho do modelo de forma adequada.\n",
    "\n",
    "- Treinamento do modelo e predições: Realizaremos o treinamento do modelo utilizando o conjunto de treinamento e, com o modelo treinado, faremos predições para o conjunto de validação.\n",
    "\n",
    "- Salvando predições e respostas corretas: Registraremos as predições geradas pelo modelo e compararemos com as respostas corretas para o conjunto de validação, permitindo uma análise comparativa posterior.\n",
    "\n",
    "- Impressão dos resultados: Calcularemos o volume médio predito de reservas e o REQM (Erro Quadrático Médio Residual) do modelo para cada região.\n",
    "\n",
    "- Análise dos resultados: Por fim, analisaremos os resultados obtidos em cada região, interpretando o volume médio predito de reservas e avaliando o REQM do modelo. Essa análise nos fornecerá informações valiosas sobre o desempenho do modelo em cada contexto específico.\n",
    "\n",
    "Com esse processo completo, a empresa Oleobrás estará capacitada a tomar decisões mais embasadas e orientadas por dados, escolhendo a melhor região para a perfuração do novo poço de petróleo com base nas estimativas de reservas e nos resultados obtidos através do modelo preditivo."
   ]
  },
  {
   "cell_type": "markdown",
   "id": "6f2de7cf-8cae-4fbd-8cdb-53bd1e16285f",
   "metadata": {},
   "source": [
    "### Análise Exploratória GEO_0"
   ]
  },
  {
   "cell_type": "code",
   "execution_count": 3,
   "id": "3e3485f3-4f5d-4758-bcb1-978aed15e796",
   "metadata": {},
   "outputs": [
    {
     "data": {
      "text/html": [
       "<div>\n",
       "<style scoped>\n",
       "    .dataframe tbody tr th:only-of-type {\n",
       "        vertical-align: middle;\n",
       "    }\n",
       "\n",
       "    .dataframe tbody tr th {\n",
       "        vertical-align: top;\n",
       "    }\n",
       "\n",
       "    .dataframe thead th {\n",
       "        text-align: right;\n",
       "    }\n",
       "</style>\n",
       "<table border=\"1\" class=\"dataframe\">\n",
       "  <thead>\n",
       "    <tr style=\"text-align: right;\">\n",
       "      <th></th>\n",
       "      <th>id</th>\n",
       "      <th>f0</th>\n",
       "      <th>f1</th>\n",
       "      <th>f2</th>\n",
       "      <th>product</th>\n",
       "    </tr>\n",
       "  </thead>\n",
       "  <tbody>\n",
       "    <tr>\n",
       "      <th>0</th>\n",
       "      <td>txEyH</td>\n",
       "      <td>0.705745</td>\n",
       "      <td>-0.497823</td>\n",
       "      <td>1.221170</td>\n",
       "      <td>105.280062</td>\n",
       "    </tr>\n",
       "    <tr>\n",
       "      <th>1</th>\n",
       "      <td>2acmU</td>\n",
       "      <td>1.334711</td>\n",
       "      <td>-0.340164</td>\n",
       "      <td>4.365080</td>\n",
       "      <td>73.037750</td>\n",
       "    </tr>\n",
       "    <tr>\n",
       "      <th>2</th>\n",
       "      <td>409Wp</td>\n",
       "      <td>1.022732</td>\n",
       "      <td>0.151990</td>\n",
       "      <td>1.419926</td>\n",
       "      <td>85.265647</td>\n",
       "    </tr>\n",
       "    <tr>\n",
       "      <th>3</th>\n",
       "      <td>iJLyR</td>\n",
       "      <td>-0.032172</td>\n",
       "      <td>0.139033</td>\n",
       "      <td>2.978566</td>\n",
       "      <td>168.620776</td>\n",
       "    </tr>\n",
       "    <tr>\n",
       "      <th>4</th>\n",
       "      <td>Xdl7t</td>\n",
       "      <td>1.988431</td>\n",
       "      <td>0.155413</td>\n",
       "      <td>4.751769</td>\n",
       "      <td>154.036647</td>\n",
       "    </tr>\n",
       "  </tbody>\n",
       "</table>\n",
       "</div>"
      ],
      "text/plain": [
       "      id        f0        f1        f2     product\n",
       "0  txEyH  0.705745 -0.497823  1.221170  105.280062\n",
       "1  2acmU  1.334711 -0.340164  4.365080   73.037750\n",
       "2  409Wp  1.022732  0.151990  1.419926   85.265647\n",
       "3  iJLyR -0.032172  0.139033  2.978566  168.620776\n",
       "4  Xdl7t  1.988431  0.155413  4.751769  154.036647"
      ]
     },
     "execution_count": 3,
     "metadata": {},
     "output_type": "execute_result"
    }
   ],
   "source": [
    "data_geo_0.head()"
   ]
  },
  {
   "cell_type": "code",
   "execution_count": 4,
   "id": "6a28425b-f63e-44d4-9571-d0530b09c3cc",
   "metadata": {},
   "outputs": [
    {
     "name": "stdout",
     "output_type": "stream",
     "text": [
      "<class 'pandas.core.frame.DataFrame'>\n",
      "RangeIndex: 100000 entries, 0 to 99999\n",
      "Data columns (total 5 columns):\n",
      " #   Column   Non-Null Count   Dtype  \n",
      "---  ------   --------------   -----  \n",
      " 0   id       100000 non-null  object \n",
      " 1   f0       100000 non-null  float64\n",
      " 2   f1       100000 non-null  float64\n",
      " 3   f2       100000 non-null  float64\n",
      " 4   product  100000 non-null  float64\n",
      "dtypes: float64(4), object(1)\n",
      "memory usage: 3.8+ MB\n"
     ]
    }
   ],
   "source": [
    "data_geo_0.info()"
   ]
  },
  {
   "cell_type": "code",
   "execution_count": 5,
   "id": "d79555c0-2382-4c36-a7a7-d040a1747ccb",
   "metadata": {},
   "outputs": [
    {
     "data": {
      "text/html": [
       "<div>\n",
       "<style scoped>\n",
       "    .dataframe tbody tr th:only-of-type {\n",
       "        vertical-align: middle;\n",
       "    }\n",
       "\n",
       "    .dataframe tbody tr th {\n",
       "        vertical-align: top;\n",
       "    }\n",
       "\n",
       "    .dataframe thead th {\n",
       "        text-align: right;\n",
       "    }\n",
       "</style>\n",
       "<table border=\"1\" class=\"dataframe\">\n",
       "  <thead>\n",
       "    <tr style=\"text-align: right;\">\n",
       "      <th></th>\n",
       "      <th>f0</th>\n",
       "      <th>f1</th>\n",
       "      <th>f2</th>\n",
       "      <th>product</th>\n",
       "    </tr>\n",
       "  </thead>\n",
       "  <tbody>\n",
       "    <tr>\n",
       "      <th>count</th>\n",
       "      <td>100000.000000</td>\n",
       "      <td>100000.000000</td>\n",
       "      <td>100000.000000</td>\n",
       "      <td>100000.000000</td>\n",
       "    </tr>\n",
       "    <tr>\n",
       "      <th>mean</th>\n",
       "      <td>0.500419</td>\n",
       "      <td>0.250143</td>\n",
       "      <td>2.502647</td>\n",
       "      <td>92.500000</td>\n",
       "    </tr>\n",
       "    <tr>\n",
       "      <th>std</th>\n",
       "      <td>0.871832</td>\n",
       "      <td>0.504433</td>\n",
       "      <td>3.248248</td>\n",
       "      <td>44.288691</td>\n",
       "    </tr>\n",
       "    <tr>\n",
       "      <th>min</th>\n",
       "      <td>-1.408605</td>\n",
       "      <td>-0.848218</td>\n",
       "      <td>-12.088328</td>\n",
       "      <td>0.000000</td>\n",
       "    </tr>\n",
       "    <tr>\n",
       "      <th>25%</th>\n",
       "      <td>-0.072580</td>\n",
       "      <td>-0.200881</td>\n",
       "      <td>0.287748</td>\n",
       "      <td>56.497507</td>\n",
       "    </tr>\n",
       "    <tr>\n",
       "      <th>50%</th>\n",
       "      <td>0.502360</td>\n",
       "      <td>0.250252</td>\n",
       "      <td>2.515969</td>\n",
       "      <td>91.849972</td>\n",
       "    </tr>\n",
       "    <tr>\n",
       "      <th>75%</th>\n",
       "      <td>1.073581</td>\n",
       "      <td>0.700646</td>\n",
       "      <td>4.715088</td>\n",
       "      <td>128.564089</td>\n",
       "    </tr>\n",
       "    <tr>\n",
       "      <th>max</th>\n",
       "      <td>2.362331</td>\n",
       "      <td>1.343769</td>\n",
       "      <td>16.003790</td>\n",
       "      <td>185.364347</td>\n",
       "    </tr>\n",
       "  </tbody>\n",
       "</table>\n",
       "</div>"
      ],
      "text/plain": [
       "                  f0             f1             f2        product\n",
       "count  100000.000000  100000.000000  100000.000000  100000.000000\n",
       "mean        0.500419       0.250143       2.502647      92.500000\n",
       "std         0.871832       0.504433       3.248248      44.288691\n",
       "min        -1.408605      -0.848218     -12.088328       0.000000\n",
       "25%        -0.072580      -0.200881       0.287748      56.497507\n",
       "50%         0.502360       0.250252       2.515969      91.849972\n",
       "75%         1.073581       0.700646       4.715088     128.564089\n",
       "max         2.362331       1.343769      16.003790     185.364347"
      ]
     },
     "execution_count": 5,
     "metadata": {},
     "output_type": "execute_result"
    }
   ],
   "source": [
    "data_geo_0.describe()"
   ]
  },
  {
   "cell_type": "code",
   "execution_count": 6,
   "id": "118fe1a1-14d6-4040-bdf8-57271dc64a96",
   "metadata": {
    "scrolled": true
   },
   "outputs": [
    {
     "data": {
      "image/png": "[encoded data removed]",
      "text/plain": [
       "<Figure size 640x480 with 2 Axes>"
      ]
     },
     "metadata": {},
     "output_type": "display_data"
    }
   ],
   "source": [
    "corr = data_geo_0.corr()\n",
    "sns.heatmap(corr, cmap = 'Wistia', annot= True);"
   ]
  },
  {
   "cell_type": "code",
   "execution_count": 7,
   "id": "9cbbfac7",
   "metadata": {},
   "outputs": [
    {
     "data": {
      "image/png": "[encoded data removed]",
      "text/plain": [
       "<Figure size 1200x400 with 1 Axes>"
      ]
     },
     "metadata": {},
     "output_type": "display_data"
    }
   ],
   "source": [
    "fig, ax = plt.subplots(figsize=(12, 4))\n",
    "sns.histplot(data_geo_0['product'], color='r', ax=ax)\n",
    "ax.set_title('Distribuição do feature product')\n",
    "\n",
    "plt.show()"
   ]
  },
  {
   "cell_type": "code",
   "execution_count": 8,
   "id": "5f5c2f25",
   "metadata": {},
   "outputs": [
    {
     "data": {
      "image/png": "[encoded data removed]",
      "text/plain": [
       "<Figure size 640x480 with 1 Axes>"
      ]
     },
     "metadata": {},
     "output_type": "display_data"
    }
   ],
   "source": [
    "pd.DataFrame(data_geo_0['product']).boxplot();"
   ]
  },
  {
   "cell_type": "markdown",
   "id": "eac1ed44",
   "metadata": {},
   "source": [
    "#### Conclusão EAD - GEO_0\n",
    "\n",
    "Ao examinar a região Geo_0 no gráfico de calor, podemos observar que as relações mais notáveis ocorrem entre a feature f2 e o produto. A análise da distribuição revela um padrão frequente na produção de petróleo, concentrado em valores de 50, 75, 100 e 125, com uma frequência de 1900. Esse padrão consistente é um indicador positivo da qualidade de produção, visto que demonstra uma frequência regular.\n",
    "\n",
    "Além disso, a representação por meio do boxplot não apresenta valores atípicos (outliers), sugerindo uma distribuição relativamente homogênea. A mediana, situada em 91 mil de produção de petróleo, oferece uma estimativa do valor central dos dados e pode servir como uma referência para a produção média na região.\n",
    "\n",
    "Em resumo, a análise do gráfico de calor destaca a relação positiva entre a feature f2 e o produto, revelando uma frequência consistente na produção de petróleo. O boxplot complementa essa informação, mostrando uma distribuição sem valores atípicos e uma mediana de aproximadamente 91 mil na produção de petróleo. Esses indicadores apontam para uma qualidade estável e promissora na produção de petróleo na região Geo_0."
   ]
  },
  {
   "cell_type": "markdown",
   "id": "f5ee5138-c8d3-4f32-8c4a-dfd5f5165e16",
   "metadata": {},
   "source": [
    "### Treinando Modelo GEO_0"
   ]
  },
  {
   "cell_type": "markdown",
   "id": "27ba2695-768c-4e3c-8b30-42243cc0ada2",
   "metadata": {},
   "source": [
    "### Separando os Dados"
   ]
  },
  {
   "cell_type": "code",
   "execution_count": 40,
   "id": "aefe7983-c335-4860-b649-4c82f1e79d06",
   "metadata": {},
   "outputs": [
    {
     "name": "stdout",
     "output_type": "stream",
     "text": [
      "Pontuação média de avaliação do modelo: 0.27549130726904475\n"
     ]
    }
   ],
   "source": [
    "# features\n",
    "X = data_geo_0[['f0','f1','f2']]\n",
    "# target\n",
    "y = data_geo_0['product']\n",
    "\n",
    "#separando os dados\n",
    "X_train, X_test, y_train, y_test = train_test_split(X, y, test_size=0.25, random_state=20)\n",
    "\n",
    "# Instanciando modelo\n",
    "model = LinearRegression()\n",
    "\n",
    "# Verificando qualidade do modelo\n",
    "scores = cross_val_score(model, X, y, cv=5)\n",
    "final_score = sum(scores) / len(scores)\n",
    "\n",
    "print('Pontuação média de avaliação do modelo:', final_score)"
   ]
  },
  {
   "cell_type": "code",
   "execution_count": 10,
   "id": "adb7ac4d-968a-4269-a999-9c979ee03d34",
   "metadata": {},
   "outputs": [
    {
     "name": "stdout",
     "output_type": "stream",
     "text": [
      "O valor médio predito do volume de reservas no poço de petróleo GEO_0 é:  92.5104154649187\n",
      "O REQM do modelo de regressão linear no conjunto de validação: 37.565439320716095\n"
     ]
    }
   ],
   "source": [
    "# Treinamento\n",
    "model.fit(X_train,y_train)\n",
    "# predição\n",
    "y_pred_geo_0 = model.predict(X_test)\n",
    "result = mean_squared_error(y_test, y_pred_geo_0)**0.5\n",
    "print('O valor médio predito do volume de reservas no poço de petróleo GEO_0 é: ',y_pred_geo_0.mean())\n",
    "print(\"O REQM do modelo de regressão linear no conjunto de validação:\", result)"
   ]
  },
  {
   "cell_type": "markdown",
   "id": "eea15832-5543-4fb2-8f75-960855b29f06",
   "metadata": {},
   "source": [
    "### Análise Explorátória GEO_1"
   ]
  },
  {
   "cell_type": "code",
   "execution_count": 11,
   "id": "4cafde0a-6c03-4dfa-aeab-270c7bcc6fa3",
   "metadata": {},
   "outputs": [
    {
     "data": {
      "text/html": [
       "<div>\n",
       "<style scoped>\n",
       "    .dataframe tbody tr th:only-of-type {\n",
       "        vertical-align: middle;\n",
       "    }\n",
       "\n",
       "    .dataframe tbody tr th {\n",
       "        vertical-align: top;\n",
       "    }\n",
       "\n",
       "    .dataframe thead th {\n",
       "        text-align: right;\n",
       "    }\n",
       "</style>\n",
       "<table border=\"1\" class=\"dataframe\">\n",
       "  <thead>\n",
       "    <tr style=\"text-align: right;\">\n",
       "      <th></th>\n",
       "      <th>id</th>\n",
       "      <th>f0</th>\n",
       "      <th>f1</th>\n",
       "      <th>f2</th>\n",
       "      <th>product</th>\n",
       "    </tr>\n",
       "  </thead>\n",
       "  <tbody>\n",
       "    <tr>\n",
       "      <th>0</th>\n",
       "      <td>kBEdx</td>\n",
       "      <td>-15.001348</td>\n",
       "      <td>-8.276000</td>\n",
       "      <td>-0.005876</td>\n",
       "      <td>3.179103</td>\n",
       "    </tr>\n",
       "    <tr>\n",
       "      <th>1</th>\n",
       "      <td>62mP7</td>\n",
       "      <td>14.272088</td>\n",
       "      <td>-3.475083</td>\n",
       "      <td>0.999183</td>\n",
       "      <td>26.953261</td>\n",
       "    </tr>\n",
       "    <tr>\n",
       "      <th>2</th>\n",
       "      <td>vyE1P</td>\n",
       "      <td>6.263187</td>\n",
       "      <td>-5.948386</td>\n",
       "      <td>5.001160</td>\n",
       "      <td>134.766305</td>\n",
       "    </tr>\n",
       "    <tr>\n",
       "      <th>3</th>\n",
       "      <td>KcrkZ</td>\n",
       "      <td>-13.081196</td>\n",
       "      <td>-11.506057</td>\n",
       "      <td>4.999415</td>\n",
       "      <td>137.945408</td>\n",
       "    </tr>\n",
       "    <tr>\n",
       "      <th>4</th>\n",
       "      <td>AHL4O</td>\n",
       "      <td>12.702195</td>\n",
       "      <td>-8.147433</td>\n",
       "      <td>5.004363</td>\n",
       "      <td>134.766305</td>\n",
       "    </tr>\n",
       "  </tbody>\n",
       "</table>\n",
       "</div>"
      ],
      "text/plain": [
       "      id         f0         f1        f2     product\n",
       "0  kBEdx -15.001348  -8.276000 -0.005876    3.179103\n",
       "1  62mP7  14.272088  -3.475083  0.999183   26.953261\n",
       "2  vyE1P   6.263187  -5.948386  5.001160  134.766305\n",
       "3  KcrkZ -13.081196 -11.506057  4.999415  137.945408\n",
       "4  AHL4O  12.702195  -8.147433  5.004363  134.766305"
      ]
     },
     "execution_count": 11,
     "metadata": {},
     "output_type": "execute_result"
    }
   ],
   "source": [
    "data_geo_1.head()"
   ]
  },
  {
   "cell_type": "code",
   "execution_count": 12,
   "id": "f3a01619-4ad4-4691-b354-c41a34a4a75b",
   "metadata": {},
   "outputs": [
    {
     "name": "stdout",
     "output_type": "stream",
     "text": [
      "<class 'pandas.core.frame.DataFrame'>\n",
      "RangeIndex: 100000 entries, 0 to 99999\n",
      "Data columns (total 5 columns):\n",
      " #   Column   Non-Null Count   Dtype  \n",
      "---  ------   --------------   -----  \n",
      " 0   id       100000 non-null  object \n",
      " 1   f0       100000 non-null  float64\n",
      " 2   f1       100000 non-null  float64\n",
      " 3   f2       100000 non-null  float64\n",
      " 4   product  100000 non-null  float64\n",
      "dtypes: float64(4), object(1)\n",
      "memory usage: 3.8+ MB\n"
     ]
    }
   ],
   "source": [
    "data_geo_1.info()"
   ]
  },
  {
   "cell_type": "code",
   "execution_count": 13,
   "id": "2eff4225-2ba4-4864-9715-ca1c0df9811f",
   "metadata": {},
   "outputs": [
    {
     "data": {
      "text/html": [
       "<div>\n",
       "<style scoped>\n",
       "    .dataframe tbody tr th:only-of-type {\n",
       "        vertical-align: middle;\n",
       "    }\n",
       "\n",
       "    .dataframe tbody tr th {\n",
       "        vertical-align: top;\n",
       "    }\n",
       "\n",
       "    .dataframe thead th {\n",
       "        text-align: right;\n",
       "    }\n",
       "</style>\n",
       "<table border=\"1\" class=\"dataframe\">\n",
       "  <thead>\n",
       "    <tr style=\"text-align: right;\">\n",
       "      <th></th>\n",
       "      <th>f0</th>\n",
       "      <th>f1</th>\n",
       "      <th>f2</th>\n",
       "      <th>product</th>\n",
       "    </tr>\n",
       "  </thead>\n",
       "  <tbody>\n",
       "    <tr>\n",
       "      <th>count</th>\n",
       "      <td>100000.000000</td>\n",
       "      <td>100000.000000</td>\n",
       "      <td>100000.000000</td>\n",
       "      <td>100000.000000</td>\n",
       "    </tr>\n",
       "    <tr>\n",
       "      <th>mean</th>\n",
       "      <td>1.141296</td>\n",
       "      <td>-4.796579</td>\n",
       "      <td>2.494541</td>\n",
       "      <td>68.825000</td>\n",
       "    </tr>\n",
       "    <tr>\n",
       "      <th>std</th>\n",
       "      <td>8.965932</td>\n",
       "      <td>5.119872</td>\n",
       "      <td>1.703572</td>\n",
       "      <td>45.944423</td>\n",
       "    </tr>\n",
       "    <tr>\n",
       "      <th>min</th>\n",
       "      <td>-31.609576</td>\n",
       "      <td>-26.358598</td>\n",
       "      <td>-0.018144</td>\n",
       "      <td>0.000000</td>\n",
       "    </tr>\n",
       "    <tr>\n",
       "      <th>25%</th>\n",
       "      <td>-6.298551</td>\n",
       "      <td>-8.267985</td>\n",
       "      <td>1.000021</td>\n",
       "      <td>26.953261</td>\n",
       "    </tr>\n",
       "    <tr>\n",
       "      <th>50%</th>\n",
       "      <td>1.153055</td>\n",
       "      <td>-4.813172</td>\n",
       "      <td>2.011479</td>\n",
       "      <td>57.085625</td>\n",
       "    </tr>\n",
       "    <tr>\n",
       "      <th>75%</th>\n",
       "      <td>8.621015</td>\n",
       "      <td>-1.332816</td>\n",
       "      <td>3.999904</td>\n",
       "      <td>107.813044</td>\n",
       "    </tr>\n",
       "    <tr>\n",
       "      <th>max</th>\n",
       "      <td>29.421755</td>\n",
       "      <td>18.734063</td>\n",
       "      <td>5.019721</td>\n",
       "      <td>137.945408</td>\n",
       "    </tr>\n",
       "  </tbody>\n",
       "</table>\n",
       "</div>"
      ],
      "text/plain": [
       "                  f0             f1             f2        product\n",
       "count  100000.000000  100000.000000  100000.000000  100000.000000\n",
       "mean        1.141296      -4.796579       2.494541      68.825000\n",
       "std         8.965932       5.119872       1.703572      45.944423\n",
       "min       -31.609576     -26.358598      -0.018144       0.000000\n",
       "25%        -6.298551      -8.267985       1.000021      26.953261\n",
       "50%         1.153055      -4.813172       2.011479      57.085625\n",
       "75%         8.621015      -1.332816       3.999904     107.813044\n",
       "max        29.421755      18.734063       5.019721     137.945408"
      ]
     },
     "execution_count": 13,
     "metadata": {},
     "output_type": "execute_result"
    }
   ],
   "source": [
    "data_geo_1.describe()"
   ]
  },
  {
   "cell_type": "code",
   "execution_count": 14,
   "id": "10a5302e-c6ac-4f6c-bad9-52dde48e7177",
   "metadata": {},
   "outputs": [
    {
     "data": {
      "image/png": "[encoded data removed]",
      "text/plain": [
       "<Figure size 640x480 with 2 Axes>"
      ]
     },
     "metadata": {},
     "output_type": "display_data"
    }
   ],
   "source": [
    "corr = data_geo_1.corr()\n",
    "sns.heatmap(corr, cmap = 'Wistia', annot= True);"
   ]
  },
  {
   "cell_type": "code",
   "execution_count": 15,
   "id": "c8ce8df0-59c0-4286-9d06-00f1320af8d9",
   "metadata": {},
   "outputs": [
    {
     "data": {
      "image/png": "[encoded data removed]",
      "text/plain": [
       "<Figure size 1200x400 with 1 Axes>"
      ]
     },
     "metadata": {},
     "output_type": "display_data"
    }
   ],
   "source": [
    "fig, ax = plt.subplots(figsize=(12, 4))\n",
    "sns.histplot(data_geo_1['product'], color='r', ax=ax)\n",
    "ax.set_title('Distribuição do feature product')\n",
    "\n",
    "plt.show()"
   ]
  },
  {
   "cell_type": "code",
   "execution_count": 16,
   "id": "48bba87d",
   "metadata": {},
   "outputs": [
    {
     "data": {
      "image/png": "[encoded data removed]",
      "text/plain": [
       "<Figure size 640x480 with 1 Axes>"
      ]
     },
     "metadata": {},
     "output_type": "display_data"
    }
   ],
   "source": [
    "pd.DataFrame(data_geo_1['product']).boxplot();"
   ]
  },
  {
   "cell_type": "markdown",
   "id": "6cf1acf0",
   "metadata": {},
   "source": [
    "#### Conclusão EAD - GEO_1\n",
    "\n",
    "Dentro do gráfico de mapa de cor, é possível observar uma forte relação de 100% entre o produto e a feature f2. No entanto, ao analisar a distribuição, percebe-se que não há uma frequência uniforme na produção de petróleo, mas sim uma regularidade entre os níveis de produção que variam de 20 a 120. A frequência média que fica em torno de 8 mil, com picos altos de baixa produção chegando próximo a zero e um máximo em torno de 140.\n",
    "\n",
    "No gráfico de boxplot, a mediana da produção de petróleo é encontrada em torno de 57 mil. Essa medida representa o valor central dos dados, indicando a tendência da produção na região.\n",
    "\n",
    "Em resumo, o gráfico de mapa de cor evidencia uma forte relação entre o produto e a feature f2. Já a análise da distribuição revela uma regularidade nos níveis de produção de petróleo, com frequência média em torno de 8 mil e ocorrência de picos altos e baixos. O gráfico de boxplot confirma a mediana em aproximadamente 57 mil na produção de petróleo, fornecendo uma medida resumida da distribuição dos dados."
   ]
  },
  {
   "cell_type": "markdown",
   "id": "5feb696d-18a4-472d-b0a2-99bc8c2c48c3",
   "metadata": {},
   "source": [
    "### Treinando Modelo GEO_1"
   ]
  },
  {
   "cell_type": "markdown",
   "id": "d842d77a-f41a-4e18-b10a-c4a6a4ba417f",
   "metadata": {},
   "source": [
    "### Separando os dados"
   ]
  },
  {
   "cell_type": "code",
   "execution_count": 17,
   "id": "919ee5d3-0c29-4d13-be1c-e922ed4e7a97",
   "metadata": {},
   "outputs": [
    {
     "name": "stdout",
     "output_type": "stream",
     "text": [
      "Pontuação média de avaliação do modelo: 0.9996243728923553\n"
     ]
    }
   ],
   "source": [
    "# features\n",
    "X = data_geo_1[['f0','f1','f2']]\n",
    "# target\n",
    "y = data_geo_1['product']\n",
    "\n",
    "#separando os dados\n",
    "X_train, X_test, y_train, y_test = train_test_split(X, y, test_size=0.25, random_state=20)\n",
    "\n",
    "# Instanciando modelo\n",
    "model = LinearRegression()\n",
    "\n",
    "# Verificando qualidade do modelo\n",
    "scores = cross_val_score(model, X, y, cv=5)\n",
    "final_score = sum(scores) / len(scores)\n",
    "\n",
    "print('Pontuação média de avaliação do modelo:', final_score)"
   ]
  },
  {
   "cell_type": "code",
   "execution_count": 18,
   "id": "3f0b052f-b048-4eb2-b9a5-3c053d26b0f8",
   "metadata": {},
   "outputs": [
    {
     "name": "stdout",
     "output_type": "stream",
     "text": [
      "O valor médio predito do volume de reservas no poço de petróleo GEO_1 é:  68.73437953097319\n",
      "O REQM do modelo de regressão linear no conjunto de validação: 0.8942496902723637\n"
     ]
    }
   ],
   "source": [
    "# Treinando modelo\n",
    "model.fit(X_train,y_train)\n",
    "# predição\n",
    "y_pred_geo_1 = model.predict(X_test)\n",
    "result = mean_squared_error(y_test, y_pred_geo_1)**0.5\n",
    "print('O valor médio predito do volume de reservas no poço de petróleo GEO_1 é: ',y_pred_geo_1.mean())\n",
    "print(\"O REQM do modelo de regressão linear no conjunto de validação:\", result)"
   ]
  },
  {
   "cell_type": "markdown",
   "id": "fa5131ab-d015-43d7-8fa0-4d810f1bb261",
   "metadata": {},
   "source": [
    "### Análise Exploratória GEO_2"
   ]
  },
  {
   "cell_type": "code",
   "execution_count": 19,
   "id": "89f78ef1-dc0a-4ef4-8745-6443fdbf4781",
   "metadata": {},
   "outputs": [
    {
     "data": {
      "text/html": [
       "<div>\n",
       "<style scoped>\n",
       "    .dataframe tbody tr th:only-of-type {\n",
       "        vertical-align: middle;\n",
       "    }\n",
       "\n",
       "    .dataframe tbody tr th {\n",
       "        vertical-align: top;\n",
       "    }\n",
       "\n",
       "    .dataframe thead th {\n",
       "        text-align: right;\n",
       "    }\n",
       "</style>\n",
       "<table border=\"1\" class=\"dataframe\">\n",
       "  <thead>\n",
       "    <tr style=\"text-align: right;\">\n",
       "      <th></th>\n",
       "      <th>id</th>\n",
       "      <th>f0</th>\n",
       "      <th>f1</th>\n",
       "      <th>f2</th>\n",
       "      <th>product</th>\n",
       "    </tr>\n",
       "  </thead>\n",
       "  <tbody>\n",
       "    <tr>\n",
       "      <th>0</th>\n",
       "      <td>fwXo0</td>\n",
       "      <td>-1.146987</td>\n",
       "      <td>0.963328</td>\n",
       "      <td>-0.828965</td>\n",
       "      <td>27.758673</td>\n",
       "    </tr>\n",
       "    <tr>\n",
       "      <th>1</th>\n",
       "      <td>WJtFt</td>\n",
       "      <td>0.262778</td>\n",
       "      <td>0.269839</td>\n",
       "      <td>-2.530187</td>\n",
       "      <td>56.069697</td>\n",
       "    </tr>\n",
       "    <tr>\n",
       "      <th>2</th>\n",
       "      <td>ovLUW</td>\n",
       "      <td>0.194587</td>\n",
       "      <td>0.289035</td>\n",
       "      <td>-5.586433</td>\n",
       "      <td>62.871910</td>\n",
       "    </tr>\n",
       "    <tr>\n",
       "      <th>3</th>\n",
       "      <td>q6cA6</td>\n",
       "      <td>2.236060</td>\n",
       "      <td>-0.553760</td>\n",
       "      <td>0.930038</td>\n",
       "      <td>114.572842</td>\n",
       "    </tr>\n",
       "    <tr>\n",
       "      <th>4</th>\n",
       "      <td>WPMUX</td>\n",
       "      <td>-0.515993</td>\n",
       "      <td>1.716266</td>\n",
       "      <td>5.899011</td>\n",
       "      <td>149.600746</td>\n",
       "    </tr>\n",
       "  </tbody>\n",
       "</table>\n",
       "</div>"
      ],
      "text/plain": [
       "      id        f0        f1        f2     product\n",
       "0  fwXo0 -1.146987  0.963328 -0.828965   27.758673\n",
       "1  WJtFt  0.262778  0.269839 -2.530187   56.069697\n",
       "2  ovLUW  0.194587  0.289035 -5.586433   62.871910\n",
       "3  q6cA6  2.236060 -0.553760  0.930038  114.572842\n",
       "4  WPMUX -0.515993  1.716266  5.899011  149.600746"
      ]
     },
     "execution_count": 19,
     "metadata": {},
     "output_type": "execute_result"
    }
   ],
   "source": [
    "data_geo_2.head()"
   ]
  },
  {
   "cell_type": "code",
   "execution_count": 20,
   "id": "050aabf9-fa44-44e0-bc6d-de5dd26306db",
   "metadata": {},
   "outputs": [
    {
     "name": "stdout",
     "output_type": "stream",
     "text": [
      "<class 'pandas.core.frame.DataFrame'>\n",
      "RangeIndex: 100000 entries, 0 to 99999\n",
      "Data columns (total 5 columns):\n",
      " #   Column   Non-Null Count   Dtype  \n",
      "---  ------   --------------   -----  \n",
      " 0   id       100000 non-null  object \n",
      " 1   f0       100000 non-null  float64\n",
      " 2   f1       100000 non-null  float64\n",
      " 3   f2       100000 non-null  float64\n",
      " 4   product  100000 non-null  float64\n",
      "dtypes: float64(4), object(1)\n",
      "memory usage: 3.8+ MB\n"
     ]
    }
   ],
   "source": [
    "data_geo_2.info()"
   ]
  },
  {
   "cell_type": "code",
   "execution_count": 21,
   "id": "b4210bb2-2ef2-4b74-bbb0-8b9bb5849b79",
   "metadata": {},
   "outputs": [
    {
     "data": {
      "text/html": [
       "<div>\n",
       "<style scoped>\n",
       "    .dataframe tbody tr th:only-of-type {\n",
       "        vertical-align: middle;\n",
       "    }\n",
       "\n",
       "    .dataframe tbody tr th {\n",
       "        vertical-align: top;\n",
       "    }\n",
       "\n",
       "    .dataframe thead th {\n",
       "        text-align: right;\n",
       "    }\n",
       "</style>\n",
       "<table border=\"1\" class=\"dataframe\">\n",
       "  <thead>\n",
       "    <tr style=\"text-align: right;\">\n",
       "      <th></th>\n",
       "      <th>f0</th>\n",
       "      <th>f1</th>\n",
       "      <th>f2</th>\n",
       "      <th>product</th>\n",
       "    </tr>\n",
       "  </thead>\n",
       "  <tbody>\n",
       "    <tr>\n",
       "      <th>count</th>\n",
       "      <td>100000.000000</td>\n",
       "      <td>100000.000000</td>\n",
       "      <td>100000.000000</td>\n",
       "      <td>100000.000000</td>\n",
       "    </tr>\n",
       "    <tr>\n",
       "      <th>mean</th>\n",
       "      <td>0.002023</td>\n",
       "      <td>-0.002081</td>\n",
       "      <td>2.495128</td>\n",
       "      <td>95.000000</td>\n",
       "    </tr>\n",
       "    <tr>\n",
       "      <th>std</th>\n",
       "      <td>1.732045</td>\n",
       "      <td>1.730417</td>\n",
       "      <td>3.473445</td>\n",
       "      <td>44.749921</td>\n",
       "    </tr>\n",
       "    <tr>\n",
       "      <th>min</th>\n",
       "      <td>-8.760004</td>\n",
       "      <td>-7.084020</td>\n",
       "      <td>-11.970335</td>\n",
       "      <td>0.000000</td>\n",
       "    </tr>\n",
       "    <tr>\n",
       "      <th>25%</th>\n",
       "      <td>-1.162288</td>\n",
       "      <td>-1.174820</td>\n",
       "      <td>0.130359</td>\n",
       "      <td>59.450441</td>\n",
       "    </tr>\n",
       "    <tr>\n",
       "      <th>50%</th>\n",
       "      <td>0.009424</td>\n",
       "      <td>-0.009482</td>\n",
       "      <td>2.484236</td>\n",
       "      <td>94.925613</td>\n",
       "    </tr>\n",
       "    <tr>\n",
       "      <th>75%</th>\n",
       "      <td>1.158535</td>\n",
       "      <td>1.163678</td>\n",
       "      <td>4.858794</td>\n",
       "      <td>130.595027</td>\n",
       "    </tr>\n",
       "    <tr>\n",
       "      <th>max</th>\n",
       "      <td>7.238262</td>\n",
       "      <td>7.844801</td>\n",
       "      <td>16.739402</td>\n",
       "      <td>190.029838</td>\n",
       "    </tr>\n",
       "  </tbody>\n",
       "</table>\n",
       "</div>"
      ],
      "text/plain": [
       "                  f0             f1             f2        product\n",
       "count  100000.000000  100000.000000  100000.000000  100000.000000\n",
       "mean        0.002023      -0.002081       2.495128      95.000000\n",
       "std         1.732045       1.730417       3.473445      44.749921\n",
       "min        -8.760004      -7.084020     -11.970335       0.000000\n",
       "25%        -1.162288      -1.174820       0.130359      59.450441\n",
       "50%         0.009424      -0.009482       2.484236      94.925613\n",
       "75%         1.158535       1.163678       4.858794     130.595027\n",
       "max         7.238262       7.844801      16.739402     190.029838"
      ]
     },
     "execution_count": 21,
     "metadata": {},
     "output_type": "execute_result"
    }
   ],
   "source": [
    "data_geo_2.describe()"
   ]
  },
  {
   "cell_type": "code",
   "execution_count": 22,
   "id": "759186b0-f330-474b-bb3d-812fbbdb529c",
   "metadata": {},
   "outputs": [
    {
     "data": {
      "image/png": "[encoded data removed]",
      "text/plain": [
       "<Figure size 640x480 with 2 Axes>"
      ]
     },
     "metadata": {},
     "output_type": "display_data"
    }
   ],
   "source": [
    "corr = data_geo_2.corr()\n",
    "sns.heatmap(corr, cmap = 'Wistia', annot= True);"
   ]
  },
  {
   "cell_type": "code",
   "execution_count": 23,
   "id": "4772e619-7180-4feb-8408-437ee5b23418",
   "metadata": {},
   "outputs": [
    {
     "data": {
      "image/png": "[encoded data removed]",
      "text/plain": [
       "<Figure size 1200x400 with 1 Axes>"
      ]
     },
     "metadata": {},
     "output_type": "display_data"
    }
   ],
   "source": [
    "fig, ax = plt.subplots(figsize=(12, 4))\n",
    "sns.histplot(data_geo_2['product'], color='r', ax=ax)\n",
    "ax.set_title('Distribuição do feature product')\n",
    "\n",
    "plt.show()"
   ]
  },
  {
   "cell_type": "code",
   "execution_count": 24,
   "id": "f33ca515",
   "metadata": {},
   "outputs": [
    {
     "data": {
      "image/png": "[encoded data removed]",
      "text/plain": [
       "<Figure size 640x480 with 1 Axes>"
      ]
     },
     "metadata": {},
     "output_type": "display_data"
    }
   ],
   "source": [
    "pd.DataFrame(data_geo_2['product']).boxplot();"
   ]
  },
  {
   "cell_type": "markdown",
   "id": "b1a1700c",
   "metadata": {},
   "source": [
    "#### Conclusão EAD - GEO_2\n",
    "\n",
    "Dentro das avaliações do GEO_2 no mapa de cor, assim como nos demais, a relação entre a feature f2 e o produto continua bastante evidente. A frequência de distribuição apresenta padrões concentrados entre os valores de 50 a 125. Nota-se que GEO_0 e GEO_1 são os que se aproximam mais de uma distribuição normal, indicando uma tendência mais equilibrada em seus dados.\n",
    "\n",
    "No gráfico de boxplot, não são observados outliers, sugerindo uma distribuição mais homogênea dos dados. A mediana, que se encontra em torno de 94, indica o valor central da produção de petróleo na região. Além disso, a distribuição dos bigodes e quartis (Q1 a Q3) apresenta uma ótima proporção, o que contribui para uma análise mais consistente dos dados.\n",
    "\n",
    "Em resumo, as avaliações do GEO_2 no mapa de cor reforçam a relação entre a feature f2 e o produto. A distribuição de frequência exibe padrões entre 50 e 125. GEO_0 e GEO_1 se destacam por uma distribuição mais próxima do normal. O gráfico de boxplot, por sua vez, evidencia a ausência de outliers e uma mediana em torno de 94, além de uma distribuição balanceada entre os bigodes e quartis. Isso indica uma distribuição de produção de petróleo na região com maior estabilidade e consistência."
   ]
  },
  {
   "cell_type": "markdown",
   "id": "623fdf1d-6514-4c81-af2b-156ddd262191",
   "metadata": {},
   "source": [
    "### Treinando Modelo GEO 2"
   ]
  },
  {
   "cell_type": "markdown",
   "id": "f43d16dd-ae15-4ed1-a219-9fc0f84f78a5",
   "metadata": {},
   "source": [
    "### Separando os dados "
   ]
  },
  {
   "cell_type": "code",
   "execution_count": 25,
   "id": "07f7a945-bcfa-4a5a-98b0-9fc716362b60",
   "metadata": {},
   "outputs": [
    {
     "name": "stdout",
     "output_type": "stream",
     "text": [
      "Pontuação média de avaliação do modelo: 0.1987156246205129\n"
     ]
    }
   ],
   "source": [
    "# features\n",
    "X = data_geo_2[['f0','f1','f2']]\n",
    "# target\n",
    "y = data_geo_2['product']\n",
    "\n",
    "#separando os dados\n",
    "X_train, X_test, y_train, y_test = train_test_split(X, y, test_size=0.25, random_state=20)\n",
    "\n",
    "# Instanciando modelo\n",
    "model = LinearRegression()\n",
    "\n",
    "# Verificando qualidade do modelo\n",
    "scores = cross_val_score(model, X, y, cv=5)\n",
    "final_score = sum(scores) / len(scores)\n",
    "\n",
    "print('Pontuação média de avaliação do modelo:', final_score)"
   ]
  },
  {
   "cell_type": "code",
   "execution_count": 26,
   "id": "ffb72a89-9927-469f-a926-3e2730389c63",
   "metadata": {},
   "outputs": [
    {
     "name": "stdout",
     "output_type": "stream",
     "text": [
      "O valor médio predito do volume de reservas no poço de petróleo GEO_2 é:  95.15372602776011\n",
      "O REQM do modelo de regressão linear no conjunto de validação: 39.94745048231238\n"
     ]
    }
   ],
   "source": [
    "# Treinando modelo\n",
    "model.fit(X_train,y_train)\n",
    "# predição\n",
    "y_pred_geo_2 = model.predict(X_test)\n",
    "result = mean_squared_error(y_test, y_pred_geo_2)**0.5\n",
    "print('O valor médio predito do volume de reservas no poço de petróleo GEO_2 é: ',y_pred_geo_2.mean())\n",
    "print(\"O REQM do modelo de regressão linear no conjunto de validação:\", result)"
   ]
  },
  {
   "cell_type": "markdown",
   "id": "e02e1563-9fbb-4c22-a90a-a75ca87ee769",
   "metadata": {},
   "source": [
    "# 3. Preparação para o cálculo de lucro"
   ]
  },
  {
   "cell_type": "markdown",
   "id": "c673d182",
   "metadata": {},
   "source": [
    "Nesta etapa, vamos armazenar todos os valores necessários para os cálculos em variáveis separadas.\n",
    "\n",
    "Primeiramente, calcularemos o volume de reservas suficiente para desenvolver um novo poço sem prejuízos financeiros. Em seguida, iremos comparar o valor obtido com o valor médio de reservas em cada região.\n",
    "\n",
    "Com base nessa análise, forneceremos conclusões sobre a preparação para a etapa de cálculo de lucro. Essas conclusões serão fundamentais para guiar a tomada de decisão da empresa Oleobrás, permitindo identificar quais regiões apresentam reservas suficientes para justificar a perfuração de novos poços com segurança financeira.\n",
    "\n",
    "Ao armazenar os valores relevantes em variáveis distintas e comparar esses dados com as médias de reservas em cada região, a Oleobrás estará apta a fazer uma avaliação criteriosa das oportunidades disponíveis e determinar quais regiões possuem maior potencial de lucro e retorno sobre o investimento. Essa preparação para a etapa de cálculo de lucro garantirá que a empresa possa prosseguir com maior confiança na seleção da região mais promissora para seus projetos de exploração de petróleo."
   ]
  },
  {
   "cell_type": "markdown",
   "id": "4549f526",
   "metadata": {},
   "source": [
    "### GEO_0"
   ]
  },
  {
   "cell_type": "code",
   "execution_count": 27,
   "id": "16a0aaac",
   "metadata": {
    "scrolled": true
   },
   "outputs": [
    {
     "name": "stdout",
     "output_type": "stream",
     "text": [
      "A média real do poço GEO_0 é de :  92.50000000000001\n",
      "A média predita para o poço GEO_0 é de  92.5104154649187\n",
      "A diferança entre real e predito é de :  -0.010415464918679618\n"
     ]
    }
   ],
   "source": [
    "# 3.2. Calcule o volume de reservas suficiente para desenvolver um novo poço sem prejuizos. \n",
    "# Compare o valor recebido com o valor médio de reservas em cada região.\n",
    "\n",
    "print('A média real do poço GEO_0 é de : ',data_geo_0['product'].mean())\n",
    "print('A média predita para o poço GEO_0 é de ',y_pred_geo_0.mean())\n",
    "\n",
    "geo_0_dif_reserva = (data_geo_0['product'].mean()) - (y_pred_geo_0.mean())\n",
    "print('A diferança entre real e predito é de : ',geo_0_dif_reserva)\n"
   ]
  },
  {
   "cell_type": "markdown",
   "id": "5297801b",
   "metadata": {},
   "source": [
    "### GEO_1"
   ]
  },
  {
   "cell_type": "code",
   "execution_count": 28,
   "id": "05f97373",
   "metadata": {},
   "outputs": [
    {
     "name": "stdout",
     "output_type": "stream",
     "text": [
      "A média real do poço GEO_1 é de :  68.82500000000002\n",
      "A média predita para o poço GEO_1 é de  68.73437953097319\n",
      "A diferança entre real e predito é de :  0.09062046902683107\n"
     ]
    }
   ],
   "source": [
    "# 3.2. Calcule o volume de reservas suficiente para desenvolver um novo poço sem prejuizos. \n",
    "# Compare o valor recebido com o valor médio de reservas em cada região.\n",
    "\n",
    "print('A média real do poço GEO_1 é de : ',data_geo_1['product'].mean())\n",
    "print('A média predita para o poço GEO_1 é de ',y_pred_geo_1.mean())\n",
    "\n",
    "geo_1_dif_reserva = (data_geo_1['product'].mean()) - (y_pred_geo_1.mean())\n",
    "print('A diferança entre real e predito é de : ',geo_1_dif_reserva)"
   ]
  },
  {
   "cell_type": "markdown",
   "id": "6f7db9df",
   "metadata": {},
   "source": [
    "### GEO_2"
   ]
  },
  {
   "cell_type": "code",
   "execution_count": 29,
   "id": "9f22b2df",
   "metadata": {},
   "outputs": [
    {
     "name": "stdout",
     "output_type": "stream",
     "text": [
      "A média real do poço GEO_2 é de :  95.00000000000004\n",
      "A média predita para o poço GEO_2 é de  95.15372602776011\n",
      "A diferança entre real e predito é de :  -0.15372602776007227\n"
     ]
    }
   ],
   "source": [
    "# 3.2. Calcule o volume de reservas suficiente para desenvolver um novo poço sem prejuizos. \n",
    "# Compare o valor recebido com o valor médio de reservas em cada região.\n",
    "\n",
    "print('A média real do poço GEO_2 é de : ',data_geo_2['product'].mean())\n",
    "print('A média predita para o poço GEO_2 é de ',y_pred_geo_2.mean())\n",
    "\n",
    "geo_2_dif_reserva = (data_geo_2['product'].mean()) - (y_pred_geo_2.mean())\n",
    "print('A diferança entre real e predito é de : ',geo_2_dif_reserva)"
   ]
  },
  {
   "cell_type": "markdown",
   "id": "3e7bacc5",
   "metadata": {},
   "source": [
    "#### Conclusão Intermediária\n",
    "\n",
    "Ao analisarmos as médias de produtividade de barris de óleo em cada região de poços, obtivemos insumos importantes para prosseguir com as próximas avaliações. Os resultados são os seguintes:\n",
    "\n",
    "A maior média de produtividade de barris de óleo é encontrada na região GEO_2, seguida de perto pela região GEO_0, e a região GEO_1 apresenta a menor produtividade.\n",
    "Além disso, ao realizarmos a predição de cada região em relação aos seus valores reais, o modelo demonstrou uma boa precisão, com diferenças entre as predições e os valores reais em torno de 0,09% a -0,15%. Essas informações indicam que as previsões estão muito próximas dos valores reais da produção de petróleo em cada região, evidenciando uma ótima assertividade nas predições.\n",
    "\n",
    "Em resumo, os dados mostram que GEO_2 possui a maior média de produtividade, GEO_0 é próxima em produtividade e GEO_1 tem a menor produtividade. Além disso, as previsões do modelo têm uma excelente precisão, com uma margem mínima de diferença em relação aos valores reais de produção de petróleo em cada região."
   ]
  },
  {
   "cell_type": "markdown",
   "id": "94186b62-c428-4c3b-bd76-d7b47c9b2745",
   "metadata": {},
   "source": [
    "# 4. Calcular lucro do conjunto \n",
    "\n",
    "\n",
    "\n",
    "\n",
    "\n"
   ]
  },
  {
   "cell_type": "markdown",
   "id": "459a2b4f",
   "metadata": {},
   "source": [
    "Dentro desta etapa, iremos calcular o lucro de um conjunto de poços de petróleo selecionados e suas predições do modelo. Para isso, seguiremos os seguintes passos:\n",
    "\n",
    "- Escolher os poços com os valores mais altos de predições: Com base nas predições do modelo, selecionaremos os poços de petróleo que apresentam as maiores estimativas de volume de reservas.\n",
    "\n",
    "- Sumarizar o volume alvo de reservas: Vamos somarizar o volume total de reservas dos poços selecionados, de acordo com as predições do modelo.\n",
    "\n",
    "- Apresentar conclusões: Com os poços selecionados e o volume estimado de reservas, sugeriremos uma região específica para o desenvolvimento de poços de petróleo. Justificaremos nossa escolha com base nas análises e critérios utilizados ao longo do processo.\n",
    "\n",
    "- Calcular o lucro que por fim, calcularemos o lucro total potencial para o volume de reservas recebido. Essa análise nos permitirá avaliar o faturamento bruto.\n",
    "\n",
    "Essa função nos auxiliará a tomar uma decisão informada e embasada sobre a região mais promissora para o desenvolvimento de poços de petróleo, levando em conta o potencial de lucro e os resultados do modelo preditivo. Dessa forma, a empresa Oleobrás poderá direcionar seus recursos de forma mais estratégica e aproveitar oportunidades que maximizem seus retornos de investimento."
   ]
  },
  {
   "cell_type": "code",
   "execution_count": 30,
   "id": "ed716620",
   "metadata": {},
   "outputs": [
    {
     "name": "stdout",
     "output_type": "stream",
     "text": [
      "93.8320707463394\n"
     ]
    }
   ],
   "source": [
    "resumo = (y_pred_geo_0 + y_pred_geo_2) / 2 \n",
    "print(resumo.mean())"
   ]
  },
  {
   "cell_type": "code",
   "execution_count": 31,
   "id": "5e3c7af7",
   "metadata": {},
   "outputs": [
    {
     "name": "stdout",
     "output_type": "stream",
     "text": [
      "Diferença entre os poços de predições mais altos: 2.643310562841421\n",
      "p-value = 1.0\n",
      "Falha ao rejeitar a hipótese nula: Os poços não possuem médias equivalentes\n"
     ]
    }
   ],
   "source": [
    "y_pred_geo_0 = pd.Series(y_pred_geo_0)\n",
    "y_pred_geo_2 = pd.Series(y_pred_geo_2)\n",
    "\n",
    "\n",
    "#  diferença real entre as médias nos grupos\n",
    "AB_difference = y_pred_geo_0.mean() - y_pred_geo_2.mean()\n",
    "AB_difference_abs = abs(AB_difference)\n",
    "print(\"Diferença entre os poços de predições mais altos:\", AB_difference_abs)\n",
    "\n",
    "alpha = 0.05\n",
    "    \n",
    "state = np.random.RandomState(12345)\n",
    "\n",
    "bootstrap_samples = 1000\n",
    "count = 0\n",
    "for i in range(bootstrap_samples):\n",
    "    united_samples = pd.concat([y_pred_geo_0, y_pred_geo_2])\n",
    "    subsample = united_samples.sample(frac=1, replace=True, random_state=state)\n",
    "    \n",
    "    subsample_A = subsample[:len(y_pred_geo_0)]\n",
    "    subsample_B = subsample[len(y_pred_geo_2):]\n",
    "    bootstrap_difference = y_pred_geo_2.mean() - y_pred_geo_0.mean()\n",
    "    \n",
    "    if bootstrap_difference >= AB_difference:\n",
    "        count += 1\n",
    "\n",
    "pvalue = 1. * count / bootstrap_samples\n",
    "print('p-value =', pvalue)\n",
    "\n",
    "if pvalue < alpha:\n",
    "    print(\"Rejeitar a hipótese nula: Os poços possuem médias equivalentes\")\n",
    "else:\n",
    "    print(\"Falha ao rejeitar a hipótese nula: Os poços não possuem médias equivalentes\")"
   ]
  },
  {
   "cell_type": "markdown",
   "id": "9dbe1859",
   "metadata": {},
   "source": [
    "#### Conclusão Intermediária\n",
    "\n",
    "Após selecionarmos os poços GEO_0 e GEO_2, os mais produtivos com base nas predições, constatamos que a média predita entre esses dois poços é de aproximadamente 93 mil barris. Em resumo, podemos afirmar que, para garantir segurança em termos de lucratividade, o novo poço deve ter uma média de produção igual ou superior a esse valor, assegurando que não trará prejuízos para a empresa.\n",
    "\n",
    "Entretanto, é crucial realizar um teste de hipótese para uma avaliação estatística e consistente, comparando-os em um teste A/B. Ao analisar a diferença exata entre as predições dos dois poços, verificamos que o GEO_2 tem cerca de 2.64 mil barris a mais de produção em relação ao GEO_0. Selecionamos uma amostra de 1000 observações e comparamos as diferenças das predições, gerando um valor de p-valor para o cálculo estatístico.\n",
    "\n",
    "O resultado do teste de hipótese apontou que falhamos em rejeitar a hipótese nula (H0), indicando que as médias de produção são de fato diferentes entre as duas regiões. Isso sugere que uma das regiões é mais vantajosa em termos de produtividade em relação à outra.\n",
    "\n",
    "Em conclusão, o teste estatístico reforça a importância de considerar o valor médio de produção ao avaliar a lucratividade e a viabilidade de novos poços. Além disso, ressalta-se que a região GEO_2 apresenta uma média de produção mais alta e, portanto, é considerada mais vantajosa em termos de produtividade em comparação com GEO_0."
   ]
  },
  {
   "cell_type": "markdown",
   "id": "d345f4e2-5321-484a-b98f-26f30b650273",
   "metadata": {},
   "source": [
    "# 5. Calculo de risco para cada região"
   ]
  },
  {
   "cell_type": "markdown",
   "id": "717ee74a",
   "metadata": {},
   "source": [
    "Para esta etapa, iremos calcular o risco para cada região utilizando a técnica de bootstrapping com 1000 amostras para encontrar a distribuição de lucros.\n",
    "\n",
    "Em seguida, encontraremos o lucro médio, o intervalo de confiança de 95% e o risco de prejuízo. O prejuízo será calculado como uma probabilidade e posteriormente expresso como uma porcentagem.\n",
    "\n",
    "Após analisar os resultados obtidos com o bootstrapping, apresentaremos nossas conclusões e sugeriremos uma região para o desenvolvimento de poços de petróleo. Essa sugestão será justificada com base na avaliação do risco, do lucro médio e da confiabilidade dos intervalos de confiança para cada região.\n",
    "\n",
    "Ao utilizar o bootstrapping e avaliar o risco de prejuízo com probabilidade expressa em porcentagem, a empresa Oleobrás poderá tomar uma decisão mais sólida e consciente quanto à região mais adequada para investir em poços de petróleo. Essa abordagem permitirá considerar as incertezas e riscos inerentes ao processo de exploração, auxiliando na escolha de uma região que ofereça maior potencial de retorno e menor probabilidade de prejuízos financeiros."
   ]
  },
  {
   "cell_type": "markdown",
   "id": "d60ae2f4",
   "metadata": {},
   "source": [
    "### Geo_0"
   ]
  },
  {
   "cell_type": "code",
   "execution_count": 32,
   "id": "0d40914c",
   "metadata": {},
   "outputs": [
    {
     "name": "stdout",
     "output_type": "stream",
     "text": [
      "92.2913599989568\n",
      "92.87874403169444\n"
     ]
    }
   ],
   "source": [
    "best_place = y_pred_geo_0\n",
    "best_place = pd.Series(best_place)\n",
    "\n",
    "state = np.random.RandomState(12345)\n",
    "\n",
    "values = []\n",
    "for i in range(1000):\n",
    "    sub_exemplo = best_place.sample(frac=1, replace=True, random_state=state)\n",
    "    values.append(sub_exemplo.quantile(0.50))\n",
    "\n",
    "values = pd.Series(values)\n",
    "    \n",
    "lower = values.quantile(0.05)\n",
    "upper = values.quantile(0.95)\n",
    "\n",
    "print(lower)\n",
    "print(upper)"
   ]
  },
  {
   "cell_type": "markdown",
   "id": "5c1a705c",
   "metadata": {},
   "source": [
    "### Geo_1"
   ]
  },
  {
   "cell_type": "code",
   "execution_count": 33,
   "id": "4fbc0445",
   "metadata": {},
   "outputs": [
    {
     "name": "stdout",
     "output_type": "stream",
     "text": [
      "57.55810834068147\n",
      "79.8888612379764\n"
     ]
    }
   ],
   "source": [
    "best_place = y_pred_geo_1\n",
    "best_place = pd.Series(best_place)\n",
    "\n",
    "state = np.random.RandomState(12345)\n",
    "\n",
    "values = []\n",
    "for i in range(1000):\n",
    "    sub_exemplo = best_place.sample(frac=1, replace=True, random_state=state)\n",
    "    values.append(sub_exemplo.quantile(0.50))\n",
    "\n",
    "values = pd.Series(values)\n",
    "    \n",
    "lower = values.quantile(0.05)\n",
    "upper = values.quantile(0.95)\n",
    "\n",
    "print(lower)\n",
    "print(upper)"
   ]
  },
  {
   "cell_type": "markdown",
   "id": "c67461fa",
   "metadata": {},
   "source": [
    "### Geo_2"
   ]
  },
  {
   "cell_type": "code",
   "execution_count": 34,
   "id": "f145f016",
   "metadata": {},
   "outputs": [
    {
     "name": "stdout",
     "output_type": "stream",
     "text": [
      "94.83033441525212\n",
      "95.37826006839457\n"
     ]
    }
   ],
   "source": [
    "best_place = y_pred_geo_2\n",
    "best_place = pd.Series(best_place)\n",
    "\n",
    "state = np.random.RandomState(12345)\n",
    "\n",
    "values = []\n",
    "for i in range(1000):\n",
    "    sub_exemplo = best_place.sample(frac=1, replace=True, random_state=state)\n",
    "    values.append(sub_exemplo.quantile(0.50))\n",
    "\n",
    "values = pd.Series(values)\n",
    "    \n",
    "lower = values.quantile(0.05)\n",
    "upper = values.quantile(0.95)\n",
    "\n",
    "print(lower)\n",
    "print(upper)"
   ]
  },
  {
   "cell_type": "code",
   "execution_count": 35,
   "id": "cc1bfec2",
   "metadata": {},
   "outputs": [
    {
     "name": "stdout",
     "output_type": "stream",
     "text": [
      "Faturamento Bruto:  8992.760612598358\n"
     ]
    }
   ],
   "source": [
    "# Calculo faturamento bruto\n",
    "valor_petroleo = 94.83\n",
    "\n",
    "Faturamento_Bruto = lower * valor_petroleo\n",
    "print('Faturamento Bruto: ',Faturamento_Bruto)"
   ]
  },
  {
   "cell_type": "markdown",
   "id": "a446a198",
   "metadata": {},
   "source": [
    "#### Conclusão Intermediária\n",
    "\n",
    "Durante a realização dos testes para detectar com maior precisão a região adequada para a construção de novos poços, obtivemos um retorno significativo na área correspondente aos poços de GEO_2, apresentando uma média preditiva de 94.83 mil barris de petróleo. Por outro lado, a região de GEO_1 registrou a menor média preditiva."
   ]
  },
  {
   "cell_type": "markdown",
   "id": "8acd2e6e",
   "metadata": {},
   "source": [
    "## Conclusão Geral\n",
    "\n",
    "Site Investing - https://br.investing.com/commodities/brent-oil-historical-data\n",
    "\n",
    "Nesta etapa final, conduzimos um teste comparativo com 1000 amostras usando a técnica de bootstrapping, que consiste em selecionar aleatoriamente um volume de amostras para determinar, com um nível de confiança de 95%, a melhor região para a criação de novos poços de petróleo. Para cada região, calculamos a mediana como valor de amostragem e determinamos o valor com nível de confiança de 95% para todos os poços.\n",
    "\n",
    "O resultado mostrou que a região GEO_2 apresenta o melhor retorno, com um valor mínimo de confiança de 94 mil barris de produção de petróleo. Com base nesse resultado, podemos afirmar com segurança que essa região é a mais adequada para a construção de um novo poço de petróleo, e o valor de 94 mil barris deve ser o alvo médio seguro para evitar prejuízos.\n",
    "\n",
    "De acordo com o site Investing, o valor do petróleo hoje está em 84,47 dólares por barril. Ao realizar o cálculo, o faturamento bruto estimado é de 8,992 milhões de dólares.\n",
    "\n",
    "Dessa forma, com a análise estatística e os dados atuais do mercado de petróleo, podemos concluir que a região GEO_2 é a melhor opção para a instalação de novos poços, com um valor médio seguro de 94 mil barris de produção. Essa escolha tem o potencial de gerar um faturamento bruto significativo, aproximando-se de 9 milhões.\n"
   ]
  }
 ],
 "metadata": {
  "kernelspec": {
   "display_name": "Python 3 (ipykernel)",
   "language": "python",
   "name": "python3"
  },
  "language_info": {
   "codemirror_mode": {
    "name": "ipython",
    "version": 3
   },
   "file_extension": ".py",
   "mimetype": "text/x-python",
   "name": "python",
   "nbconvert_exporter": "python",
   "pygments_lexer": "ipython3",
   "version": "3.11.3"
  }
 },
 "nbformat": 4,
 "nbformat_minor": 5
}
